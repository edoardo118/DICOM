{
 "cells": [
  {
   "cell_type": "code",
   "execution_count": null,
   "id": "2417439e-81ac-4f9a-a3c4-7dd80735b6f5",
   "metadata": {},
   "outputs": [],
   "source": [
    "import sys\n",
    "!{sys.executable} -m pip install -r requirements.txt"
   ]
  },
  {
   "cell_type": "code",
   "execution_count": 1,
   "id": "f16ea99d-e0eb-4b2c-8ab3-d5b45af8e7f8",
   "metadata": {},
   "outputs": [
    {
     "ename": "ModuleNotFoundError",
     "evalue": "No module named 'fastai'",
     "output_type": "error",
     "traceback": [
      "\u001b[0;31m---------------------------------------------------------------------------\u001b[0m",
      "\u001b[0;31mModuleNotFoundError\u001b[0m                       Traceback (most recent call last)",
      "\u001b[0;32m/tmp/ipykernel_4285/1957106118.py\u001b[0m in \u001b[0;36m<module>\u001b[0;34m\u001b[0m\n\u001b[1;32m      1\u001b[0m \u001b[0;31m#Load the dependancies\u001b[0m\u001b[0;34m\u001b[0m\u001b[0;34m\u001b[0m\u001b[0;34m\u001b[0m\u001b[0m\n\u001b[0;32m----> 2\u001b[0;31m \u001b[0;32mfrom\u001b[0m \u001b[0mfastai\u001b[0m\u001b[0;34m.\u001b[0m\u001b[0mbasics\u001b[0m \u001b[0;32mimport\u001b[0m \u001b[0;34m*\u001b[0m\u001b[0;34m\u001b[0m\u001b[0;34m\u001b[0m\u001b[0m\n\u001b[0m\u001b[1;32m      3\u001b[0m \u001b[0;32mfrom\u001b[0m \u001b[0mfastai\u001b[0m\u001b[0;34m.\u001b[0m\u001b[0mcallback\u001b[0m\u001b[0;34m.\u001b[0m\u001b[0mall\u001b[0m \u001b[0;32mimport\u001b[0m \u001b[0;34m*\u001b[0m\u001b[0;34m\u001b[0m\u001b[0;34m\u001b[0m\u001b[0m\n\u001b[1;32m      4\u001b[0m \u001b[0;32mfrom\u001b[0m \u001b[0mfastai\u001b[0m\u001b[0;34m.\u001b[0m\u001b[0mvision\u001b[0m\u001b[0;34m.\u001b[0m\u001b[0mall\u001b[0m \u001b[0;32mimport\u001b[0m \u001b[0;34m*\u001b[0m\u001b[0;34m\u001b[0m\u001b[0;34m\u001b[0m\u001b[0m\n\u001b[1;32m      5\u001b[0m \u001b[0;32mfrom\u001b[0m \u001b[0mfastai\u001b[0m\u001b[0;34m.\u001b[0m\u001b[0mmedical\u001b[0m\u001b[0;34m.\u001b[0m\u001b[0mimaging\u001b[0m \u001b[0;32mimport\u001b[0m \u001b[0mshow\u001b[0m\u001b[0;34m,\u001b[0m\u001b[0mpixels\u001b[0m\u001b[0;34m\u001b[0m\u001b[0;34m\u001b[0m\u001b[0m\n",
      "\u001b[0;31mModuleNotFoundError\u001b[0m: No module named 'fastai'"
     ]
    }
   ],
   "source": [
    "#Load the dependancies\n",
    "from fastai.basics import *\n",
    "from fastai.callback.all import *\n",
    "from fastai.vision.all import *\n",
    "from fastai.medical.imaging import show,pixels\n",
    "import pydicom\n",
    "import seaborn as sns\n",
    "matplotlib.rcParams['image.cmap'] = 'bone'\n",
    "from matplotlib.colors import ListedColormap, LinearSegmentedColormap"
   ]
  },
  {
   "cell_type": "code",
   "execution_count": null,
   "id": "b998ecc9-4a29-44f7-8236-2d001029ecc6",
   "metadata": {},
   "outputs": [],
   "source": [
    "import os \n",
    "folder_path = \"dicom_dir\"\n",
    "images_path = os.listdir(folder_path)"
   ]
  },
  {
   "cell_type": "code",
   "execution_count": null,
   "id": "164aa72d-1e9f-4b57-a0fe-12299a2472a1",
   "metadata": {},
   "outputs": [],
   "source": [
    "dimg  = pydicom.dcmread(os.path.join(folder_path, images_path[5]))\n",
    "dimg"
   ]
  },
  {
   "cell_type": "code",
   "execution_count": null,
   "id": "5de346d1-86ee-44e5-b8e6-eb66a68b061e",
   "metadata": {},
   "outputs": [],
   "source": [
    "dimg.PixelData[:200]"
   ]
  },
  {
   "cell_type": "code",
   "execution_count": null,
   "id": "98c77f84-841c-46ef-ac25-404852516564",
   "metadata": {},
   "outputs": [],
   "source": [
    "dimg.show(1)\n"
   ]
  },
  {
   "cell_type": "code",
   "execution_count": null,
   "id": "b87f4033-476e-42e1-b1b7-e550be6af2b7",
   "metadata": {},
   "outputs": [],
   "source": [
    "dimg.pixel_array, dimg.pixel_array.shape"
   ]
  },
  {
   "cell_type": "code",
   "execution_count": null,
   "id": "7863e4ee-04fb-48b0-9431-dca8c3c26340",
   "metadata": {},
   "outputs": [],
   "source": [
    "#lets convert the pixel_array into a tensor.  Fastai can #conveniently do this for us\n",
    "tensor_dicom = pixels(dimg) #convert into tensor\n",
    "print(f'RescaleIntercept: {dimg.RescaleIntercept:1f}\\nRescaleSlope: {dimg.RescaleSlope:1f}\\nMax pixel: '\n",
    "      f'{tensor_dicom.max()}\\nMin pixel: {tensor_dicom.min()}\\nShape: {tensor_dicom.shape}')"
   ]
  },
  {
   "cell_type": "code",
   "execution_count": null,
   "id": "641cefd0-23cd-4a9c-8513-b6507a64f63c",
   "metadata": {},
   "outputs": [],
   "source": [
    "import torch\n",
    "tensor_dicom = type(dimg)\n",
    "tensor_dicom"
   ]
  },
  {
   "cell_type": "code",
   "execution_count": null,
   "id": "75af765f-835c-43fa-94f3-10d2cb8a2a16",
   "metadata": {},
   "outputs": [],
   "source": [
    "dimg.pixel_array[256].shape"
   ]
  },
  {
   "cell_type": "code",
   "execution_count": null,
   "id": "504bdeb8-0e99-4de7-9ef6-8e86631bb1ad",
   "metadata": {},
   "outputs": [],
   "source": [
    "plt.hist(dimg.pixels.flatten().numpy())"
   ]
  },
  {
   "cell_type": "code",
   "execution_count": null,
   "id": "bea63b30-5780-491d-b2d2-1f7d67746ee0",
   "metadata": {},
   "outputs": [],
   "source": [
    "type(dimg.pixels)"
   ]
  }
 ],
 "metadata": {
  "kernelspec": {
   "display_name": "Python 3 (ipykernel)",
   "language": "python",
   "name": "python3"
  },
  "language_info": {
   "codemirror_mode": {
    "name": "ipython",
    "version": 3
   },
   "file_extension": ".py",
   "mimetype": "text/x-python",
   "name": "python",
   "nbconvert_exporter": "python",
   "pygments_lexer": "ipython3",
   "version": "3.9.6"
  }
 },
 "nbformat": 4,
 "nbformat_minor": 5
}
